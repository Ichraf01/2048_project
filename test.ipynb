{
 "cells": [
  {
   "cell_type": "code",
   "execution_count": 3,
   "metadata": {},
   "outputs": [],
   "source": [
    "from tkinter import *\n",
    "\n",
    "CANVAS_WIDTH, CANVAS_HEIGHT = 600, 400\n",
    "\n",
    "if __name__ == '_main_':\n",
    "    \n",
    "    root = Tk()\n",
    "\n",
    "    canvas = Canvas(root, width = CANVAS_WIDTH, height = CANVAS_HEIGHT)\n",
    "\n",
    "    \n",
    "    x0 = 100\n",
    "    x1 = CANVAS_WIDTH - 100\n",
    "    y1 = CANVAS_HEIGHT / 2\n",
    "    y2 = CANVAS_HEIGHT / 2\n",
    "    y3= CANVAS_HEIGHT / 2\n",
    "    y4 = CANVAS_HEIGHT / 2\n",
    "    y5 = CANVAS_HEIGHT / 2\n",
    "    \n",
    "\n",
    "    canvas.create_line(x0, y1, x1, y1)\n",
    "    canvas.create_line(x0, y2, x1, y2)\n",
    "    canvas.create_line(x0, y3, x1, y3)\n",
    "    canvas.create_line(x0, y4, x1, y4)\n",
    "    canvas.create_line(x0, y5, x1, y5)\n",
    "\n",
    "    if __name__ == \"__main__\":\n",
    "        root = tk.Tk()\n",
    "    root.mainloop()"
   ]
  },
  {
   "cell_type": "code",
   "execution_count": null,
   "metadata": {},
   "outputs": [],
   "source": [
    "global sens\n",
    "\n",
    "def deplacer_cell (cell, sens):\n",
    "    if sens == \"left\":\n",
    "        #cell.grid... for ligne in grille\n",
    "    elif sens == \"right\":\n",
    "        #cell.grid...\n",
    "    elif sens == \"up\":\n",
    "        #cell.grid...\n",
    "    elif sens == \"down\":\n",
    "        #cell.grid\n",
    "        \n",
    "\n",
    "# self => grille qui ca contenir une information mais que pour class \n",
    "#zip => transposer des cellules !!!!!\n",
    "\n",
    "\n",
    "#POUR LE GAME OVER\n",
    "        game_over_label = tk.Label(self.root, text=\"Game Over\",command= )"
   ]
  },
  {
   "cell_type": "code",
   "execution_count": null,
   "metadata": {},
   "outputs": [],
   "source": [
    "# Pour afficher les tuiles dans la matrice 4x4 \n",
    "taille_grille = 4 # 4x4\n",
    "\n",
    "for i in range(taille_grille):\n",
    "    ligne = []\n",
    "    for j in range(taille_grille):\n",
    "        cell = tk.Label(self.frame, text=\"\", width=5, height=2)\n",
    "        cell.grid(row=i, column=j, padx=5, pady=5)\n",
    "        ligne.append(cell)\n",
    "\n",
    "\n",
    "    "
   ]
  }
 ],
 "metadata": {
  "kernelspec": {
   "display_name": "Python 3",
   "language": "python",
   "name": "python3"
  },
  "language_info": {
   "codemirror_mode": {
    "name": "ipython",
    "version": 3
   },
   "file_extension": ".py",
   "mimetype": "text/x-python",
   "name": "python",
   "nbconvert_exporter": "python",
   "pygments_lexer": "ipython3",
   "version": "3.11.0"
  }
 },
 "nbformat": 4,
 "nbformat_minor": 2
}
